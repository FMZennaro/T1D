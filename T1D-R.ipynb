{
 "cells": [
  {
   "cell_type": "markdown",
   "metadata": {},
   "source": [
    "# Testing the R Wrapper with rpy2"
   ]
  },
  {
   "cell_type": "markdown",
   "metadata": {},
   "source": [
    "## Setup"
   ]
  },
  {
   "cell_type": "markdown",
   "metadata": {},
   "source": [
    "### Importing libraries"
   ]
  },
  {
   "cell_type": "code",
   "execution_count": 1,
   "metadata": {},
   "outputs": [],
   "source": [
    "import numpy as np\n",
    "import joblib"
   ]
  },
  {
   "cell_type": "markdown",
   "metadata": {},
   "source": [
    "### Importing R wrapper library"
   ]
  },
  {
   "cell_type": "code",
   "execution_count": 2,
   "metadata": {},
   "outputs": [],
   "source": [
    "import rpy2.robjects as robjects\n",
    "from rpy2.robjects.packages import importr\n",
    "from rpy2.robjects import numpy2ri\n",
    "\n",
    "r = robjects.r\n",
    "numpy2ri.activate()"
   ]
  },
  {
   "cell_type": "markdown",
   "metadata": {},
   "source": [
    "### Calling R to import the InvariantCausalPrediction package"
   ]
  },
  {
   "cell_type": "code",
   "execution_count": 3,
   "metadata": {},
   "outputs": [],
   "source": [
    "ICP = importr('InvariantCausalPrediction')"
   ]
  },
  {
   "cell_type": "markdown",
   "metadata": {},
   "source": [
    "## Running Peters' example from the documentation"
   ]
  },
  {
   "cell_type": "markdown",
   "metadata": {},
   "source": [
    "### Defining the params"
   ]
  },
  {
   "cell_type": "code",
   "execution_count": 4,
   "metadata": {},
   "outputs": [],
   "source": [
    "n = 4000\n",
    "p = 5"
   ]
  },
  {
   "cell_type": "markdown",
   "metadata": {},
   "source": [
    "### Generating the data and the indexes"
   ]
  },
  {
   "cell_type": "code",
   "execution_count": 5,
   "metadata": {},
   "outputs": [],
   "source": [
    "X = np.random.randn(n,p)\n",
    "\n",
    "ExpInd = np.ones(n,dtype='int')\n",
    "ExpInd[int(np.floor(n/2)):] = 2"
   ]
  },
  {
   "cell_type": "markdown",
   "metadata": {},
   "source": [
    "### Modifying the distribution of one environment"
   ]
  },
  {
   "cell_type": "code",
   "execution_count": 6,
   "metadata": {},
   "outputs": [],
   "source": [
    "Z = 5*np.random.randn(1,p)\n",
    "X[ExpInd==2] = X[ExpInd==2] * Z"
   ]
  },
  {
   "cell_type": "markdown",
   "metadata": {},
   "source": [
    "### Generating the targets"
   ]
  },
  {
   "cell_type": "code",
   "execution_count": 7,
   "metadata": {},
   "outputs": [],
   "source": [
    "beta = np.zeros(5)\n",
    "beta[0:2] = 1\n",
    "\n",
    "Y = np.dot(X,beta) + np.random.randn(n)"
   ]
  },
  {
   "cell_type": "markdown",
   "metadata": {},
   "source": [
    "### Making one feature depending on the target"
   ]
  },
  {
   "cell_type": "code",
   "execution_count": 9,
   "metadata": {},
   "outputs": [],
   "source": [
    "X[:,-1] = 0.3*Y + np.random.randn(n)"
   ]
  },
  {
   "cell_type": "markdown",
   "metadata": {},
   "source": [
    "### Converting Y in an R object and calling ICP"
   ]
  },
  {
   "cell_type": "code",
   "execution_count": 10,
   "metadata": {
    "scrolled": true
   },
   "outputs": [
    {
     "name": "stdout",
     "output_type": "stream",
     "text": [
      "\n",
      " *** 6% complete: tested 2 of 32 sets of variables \n",
      "\n",
      " accepted set of variables 1,2\n",
      "\n",
      " accepted set of variables 1,2,3\n",
      "\n",
      " accepted set of variables 1,2,4\n",
      "\n",
      " accepted set of variables 1,2,5\n",
      "\n",
      " accepted set of variables 1,2,3,4\n",
      "\n",
      " accepted set of variables 1,2,3,5\n",
      "\n",
      " accepted set of variables 1,2,4,5\n",
      "\n",
      " accepted set of variables 1,2,3,4,5\n"
     ]
    }
   ],
   "source": [
    "rY = robjects.vectors.FloatVector(Y)\n",
    "model = ICP.ICP(X,rY,ExpInd)"
   ]
  },
  {
   "cell_type": "markdown",
   "metadata": {},
   "source": [
    "### Printing the result"
   ]
  },
  {
   "cell_type": "code",
   "execution_count": 11,
   "metadata": {
    "scrolled": true
   },
   "outputs": [
    {
     "name": "stdout",
     "output_type": "stream",
     "text": [
      "\n",
      " Invariant Linear Causal Regression at level 0.01 (including multiplicity correction for the number of variables)\n",
      "\n",
      " Variables: Variable_1, Variable_2 show a significant causal effect\n",
      "\n",
      " \n",
      " \n",
      "          \n",
      "  LOWER BOUND\n",
      "  UPPER BOUND\n",
      "  MAXIMIN EFFECT\n",
      "  P-VALUE\n",
      "    \n",
      "\n",
      "Variable_1\n",
      "         0.85\n",
      "         1.04\n",
      "            0.85\n",
      "   <1e-09\n",
      " ***\n",
      "\n",
      "Variable_2\n",
      "         0.85\n",
      "         1.04\n",
      "            0.85\n",
      "   <1e-09\n",
      " ***\n",
      "\n",
      "Variable_3\n",
      "        -0.04\n",
      "         0.01\n",
      "            0.00\n",
      "        1\n",
      "    \n",
      "\n",
      "Variable_4\n",
      "        -0.05\n",
      "         0.08\n",
      "            0.00\n",
      "        1\n",
      "    \n",
      "\n",
      "Variable_5\n",
      "         0.00\n",
      "         0.30\n",
      "            0.00\n",
      "        1\n",
      "    \n",
      "\n",
      "\n",
      "---\n",
      "Signif. codes:  \n",
      "\n",
      "0 ‘***’ 0.001 ‘**’ 0.01 ‘*’ 0.05 ‘.’ 0.1 ‘ ’ 1\n",
      "\n",
      "\n",
      "\n",
      "\n",
      "\n"
     ]
    },
    {
     "data": {
      "text/plain": [
       "rpy2.rinterface.NULL"
      ]
     },
     "execution_count": 11,
     "metadata": {},
     "output_type": "execute_result"
    }
   ],
   "source": [
    "ICP.print_InvariantCausalPrediction(model)"
   ]
  },
  {
   "cell_type": "markdown",
   "metadata": {},
   "source": [
    "### Plotting the result "
   ]
  },
  {
   "cell_type": "code",
   "execution_count": 12,
   "metadata": {},
   "outputs": [
    {
     "name": "stdout",
     "output_type": "stream",
     "text": [
      "\n",
      "\n"
     ]
    },
    {
     "data": {
      "text/plain": [
       "rpy2.rinterface.NULL"
      ]
     },
     "execution_count": 12,
     "metadata": {},
     "output_type": "execute_result"
    }
   ],
   "source": [
    "ICP.plot_InvariantCausalPrediction(model)"
   ]
  },
  {
   "cell_type": "code",
   "execution_count": null,
   "metadata": {},
   "outputs": [],
   "source": []
  }
 ],
 "metadata": {
  "kernelspec": {
   "display_name": "Python 3",
   "language": "python",
   "name": "python3"
  },
  "language_info": {
   "codemirror_mode": {
    "name": "ipython",
    "version": 3
   },
   "file_extension": ".py",
   "mimetype": "text/x-python",
   "name": "python",
   "nbconvert_exporter": "python",
   "pygments_lexer": "ipython3",
   "version": "3.7.7"
  }
 },
 "nbformat": 4,
 "nbformat_minor": 4
}
