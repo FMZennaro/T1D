{
 "cells": [
  {
   "cell_type": "markdown",
   "metadata": {},
   "source": [
    "# Running Some Models on the T1D Data"
   ]
  },
  {
   "cell_type": "markdown",
   "metadata": {},
   "source": [
    "### Some notes"
   ]
  },
  {
   "cell_type": "markdown",
   "metadata": {},
   "source": [
    "**Files**:\n",
    "- design_matrix.csv: actual data (N x 161532)\n",
    "- dict_vectorizer.pickle: a DictVectorizer object mapping feature names to int\n",
    "- encoded_dataset.pkl: ???\n",
    "- encoding_details.yaml: type of encoding, example_ids and feature names\n",
    "- labels.csv: labels for examples: age, diabetes, donor, HLA, sex (1586 x 5)\n",
    "- normalizer.pkl: a Normalizer object (l1) used for ???\n",
    "\n",
    "**Diabetes Labels**:\n",
    "- T1D = 456\n",
    "- FDR = 761\n",
    "- SDR = 76\n",
    "- OTHER = 68\n",
    "- Ctl = 224\n",
    "- NaN = 1"
   ]
  },
  {
   "cell_type": "markdown",
   "metadata": {},
   "source": [
    "### Importing libraries"
   ]
  },
  {
   "cell_type": "code",
   "execution_count": 5,
   "metadata": {},
   "outputs": [],
   "source": [
    "import pandas as pd\n",
    "import numpy as np\n",
    "import joblib\n",
    "import matplotlib.pyplot as plt"
   ]
  },
  {
   "cell_type": "markdown",
   "metadata": {},
   "source": [
    "### Defining params: k-fold, models, and result file"
   ]
  },
  {
   "cell_type": "code",
   "execution_count": 2,
   "metadata": {},
   "outputs": [],
   "source": [
    "k = 5\n",
    "model_names = ['lasso', 'logisticregression', 'decisiontree', 'randomforest', 'adaboost']\n",
    "output_file = 'models_accuracies.pkl'"
   ]
  },
  {
   "cell_type": "markdown",
   "metadata": {},
   "source": [
    "### Defining function to create target labels "
   ]
  },
  {
   "cell_type": "code",
   "execution_count": 3,
   "metadata": {},
   "outputs": [],
   "source": [
    "def define_labels(y):\n",
    "    labels = np.zeros_like(y,dtype='int')\n",
    "    labels[y=='T1D'] = 1\n",
    "    return labels    "
   ]
  },
  {
   "cell_type": "markdown",
   "metadata": {},
   "source": [
    "### (Load tiny dataset to check the configuration)"
   ]
  },
  {
   "cell_type": "raw",
   "metadata": {},
   "source": [
    "X = joblib.load('sample_data.pkl')\n",
    "y = joblib.load('sample_labels.pkl')"
   ]
  },
  {
   "cell_type": "markdown",
   "metadata": {},
   "source": [
    "### Load real T1D data"
   ]
  },
  {
   "cell_type": "code",
   "execution_count": null,
   "metadata": {},
   "outputs": [],
   "source": [
    "X = pd.read_csv(\"design_matrix.csv\").to_numpy()\n",
    "\n",
    "df = pd.read_csv(\"labels.csv\")\n",
    "y = define_labels(df['Diabetes'].to_numpy())\n",
    "\n",
    "print('Loaded data.')"
   ]
  },
  {
   "cell_type": "markdown",
   "metadata": {},
   "source": [
    "### Run the k-fold experiment with the chosen models"
   ]
  },
  {
   "cell_type": "code",
   "execution_count": 5,
   "metadata": {},
   "outputs": [
    {
     "name": "stdout",
     "output_type": "stream",
     "text": [
      "Running split...\n",
      "Running model lasso\n",
      "Running model logisticregression\n",
      "Running model decisiontree\n",
      "Running model randomforest\n",
      "Running model adaboost\n",
      "Running split...\n",
      "Running model lasso\n",
      "Running model logisticregression\n",
      "Running model decisiontree\n",
      "Running model randomforest\n",
      "Running model adaboost\n",
      "Running split...\n",
      "Running model lasso\n",
      "Running model logisticregression\n",
      "Running model decisiontree\n",
      "Running model randomforest\n",
      "Running model adaboost\n",
      "Running split...\n",
      "Running model lasso\n",
      "Running model logisticregression\n",
      "Running model decisiontree\n",
      "Running model randomforest\n",
      "Running model adaboost\n",
      "Running split...\n",
      "Running model lasso\n",
      "Running model logisticregression\n",
      "Running model decisiontree\n",
      "Running model randomforest\n",
      "Running model adaboost\n"
     ]
    },
    {
     "data": {
      "text/plain": [
       "['models_accuracies.pkl']"
      ]
     },
     "execution_count": 5,
     "metadata": {},
     "output_type": "execute_result"
    }
   ],
   "source": [
    "from sklearn.linear_model import LogisticRegression as LR\n",
    "from sklearn.tree import DecisionTreeClassifier as DT\n",
    "from sklearn.ensemble import RandomForestClassifier as RF\n",
    "from sklearn.ensemble import AdaBoostClassifier as AB\n",
    "\n",
    "from sklearn.model_selection import KFold\n",
    "from sklearn import metrics \n",
    "\n",
    "kf = KFold(n_splits=k)\n",
    "\n",
    "accuracies = {}\n",
    "for n in model_names:\n",
    "    accuracies[n] = []\n",
    "\n",
    "for tr_idx, te_idx in kf.split(X):\n",
    "    print('Running split...')\n",
    "    X_tr, y_tr = X[tr_idx], y[tr_idx]\n",
    "    X_te, y_te = X[te_idx], y[te_idx]\n",
    "    \n",
    "    models = [LR(penalty='l1',solver='saga'), LR(), DT(), RF(), AB()]\n",
    "    for i,m in enumerate(models):\n",
    "        print('Running model {0}'.format(model_names[i]))\n",
    "        m.fit(X_tr,y_tr)\n",
    "        yhat = m.predict(X_te)\n",
    "        accuracies[model_names[i]].append(metrics.accuracy_score(y_te,yhat))\n",
    "\n",
    "joblib.dump(accuracies,output_file)"
   ]
  },
  {
   "cell_type": "markdown",
   "metadata": {},
   "source": [
    "### Plotting the accuracies"
   ]
  },
  {
   "cell_type": "code",
   "execution_count": 6,
   "metadata": {},
   "outputs": [
    {
     "data": {
      "text/plain": [
       "<matplotlib.legend.Legend at 0x7f3e471f9910>"
      ]
     },
     "execution_count": 6,
     "metadata": {},
     "output_type": "execute_result"
    },
    {
     "data": {
      "image/png": "[encoded data removed]",
      "text/plain": [
       "<Figure size 432x288 with 1 Axes>"
      ]
     },
     "metadata": {
      "needs_background": "light"
     },
     "output_type": "display_data"
    }
   ],
   "source": [
    "accs = joblib.load('results/models_accuracies.pkle')\n",
    "\n",
    "k=5\n",
    "for m in accs:\n",
    "    plt.plot(np.arange(k),accs[m], label=m)\n",
    "plt.legend()"
   ]
  }
 ],
 "metadata": {
  "kernelspec": {
   "display_name": "Python 3",
   "language": "python",
   "name": "python3"
  },
  "language_info": {
   "codemirror_mode": {
    "name": "ipython",
    "version": 3
   },
   "file_extension": ".py",
   "mimetype": "text/x-python",
   "name": "python",
   "nbconvert_exporter": "python",
   "pygments_lexer": "ipython3",
   "version": "3.7.7"
  }
 },
 "nbformat": 4,
 "nbformat_minor": 4
}
