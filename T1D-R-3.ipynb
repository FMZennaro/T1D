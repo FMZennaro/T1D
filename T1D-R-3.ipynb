{
 "cells": [
  {
   "cell_type": "markdown",
   "metadata": {},
   "source": [
    "# Using rpy2 Wrapper with T1D Data\n",
    "\n",
    "Trying causal analysis on T1D data using the following environments:\n",
    "1. T1D + FDR\n",
    "2. T1D + SDR\n",
    "3. T1D + Ctl\n",
    "4. T1D + OTHER"
   ]
  },
  {
   "cell_type": "markdown",
   "metadata": {},
   "source": [
    "## Setup"
   ]
  },
  {
   "cell_type": "markdown",
   "metadata": {},
   "source": [
    "### Importing libraries"
   ]
  },
  {
   "cell_type": "code",
   "execution_count": null,
   "metadata": {},
   "outputs": [],
   "source": [
    "import numpy as np\n",
    "import joblib\n",
    "import pandas as pd"
   ]
  },
  {
   "cell_type": "markdown",
   "metadata": {},
   "source": [
    "### Importing R wrapper library"
   ]
  },
  {
   "cell_type": "code",
   "execution_count": null,
   "metadata": {},
   "outputs": [],
   "source": [
    "import rpy2.robjects as robjects\n",
    "from rpy2.robjects.packages import importr\n",
    "from rpy2.robjects import numpy2ri\n",
    "\n",
    "r = robjects.r\n",
    "numpy2ri.activate()"
   ]
  },
  {
   "cell_type": "markdown",
   "metadata": {},
   "source": [
    "### Calling R to import the InvariantCausalPrediction package"
   ]
  },
  {
   "cell_type": "code",
   "execution_count": null,
   "metadata": {},
   "outputs": [],
   "source": [
    "ICP = importr('InvariantCausalPrediction')"
   ]
  },
  {
   "cell_type": "markdown",
   "metadata": {},
   "source": [
    "## T1D Data"
   ]
  },
  {
   "cell_type": "markdown",
   "metadata": {},
   "source": [
    "### Defining a function to filter the data (nan) "
   ]
  },
  {
   "cell_type": "code",
   "execution_count": null,
   "metadata": {},
   "outputs": [],
   "source": [
    "def filter_data(X,y):\n",
    "    indexes = df['Diabetes'].notna()\n",
    "    return X[indexes],y[indexes]"
   ]
  },
  {
   "cell_type": "markdown",
   "metadata": {},
   "source": [
    "### Defining a function to set the target labels"
   ]
  },
  {
   "cell_type": "code",
   "execution_count": null,
   "metadata": {},
   "outputs": [],
   "source": [
    "def define_labels(y):\n",
    "    labels = np.zeros_like(y,dtype='int')\n",
    "    labels[y=='T1D'] = 1\n",
    "    return labels  "
   ]
  },
  {
   "cell_type": "markdown",
   "metadata": {},
   "source": [
    "### Defining a function to set the environment labels"
   ]
  },
  {
   "cell_type": "code",
   "execution_count": null,
   "metadata": {},
   "outputs": [],
   "source": [
    "def define_indexes(y):\n",
    "    indexes = [ robjects.vectors.IntVector(np.concatenate((np.where(y=='T1D')[0], np.where(y=='FDR')[0]))+1),\n",
    "                robjects.vectors.IntVector(np.concatenate((np.where(y=='T1D')[0], np.where(y=='SDR')[0]))+1),\n",
    "                robjects.vectors.IntVector(np.concatenate((np.where(y=='T1D')[0], np.where(y=='OTHER')[0]))+1),\n",
    "                robjects.vectors.IntVector(np.concatenate((np.where(y=='T1D')[0], np.where(y=='Ctl')[0]))+1)]\n",
    "    return indexes"
   ]
  },
  {
   "cell_type": "markdown",
   "metadata": {},
   "source": [
    "### (Load tiny dataset to check the configuration)"
   ]
  },
  {
   "cell_type": "raw",
   "metadata": {},
   "source": [
    "X = joblib.load('sample_data.pkl')\n",
    "y = joblib.load('sample_labels.pkl')\n",
    "idx = joblib.load('sample_indexes_2.pkl')\n",
    "\n",
    "idx = define_indexes(idx)"
   ]
  },
  {
   "cell_type": "markdown",
   "metadata": {},
   "source": [
    "### Load real T1D data"
   ]
  },
  {
   "cell_type": "code",
   "execution_count": null,
   "metadata": {},
   "outputs": [],
   "source": [
    "X = pd.read_csv(\"design_matrix.csv\").to_numpy()\n",
    "\n",
    "df = pd.read_csv(\"labels.csv\")\n",
    "dy = df['Diabetes']\n",
    "\n",
    "X,dy = filter_data(X,dy)\n",
    "ny = dy.to_numpy()\n",
    "\n",
    "y = define_labels(ny)\n",
    "idx = define_indexes(ny)\n",
    "\n",
    "print('Loaded data')"
   ]
  },
  {
   "cell_type": "markdown",
   "metadata": {},
   "source": [
    "### Converting into R objects and calling ICP"
   ]
  },
  {
   "cell_type": "code",
   "execution_count": null,
   "metadata": {},
   "outputs": [],
   "source": [
    "rY = robjects.vectors.IntVector(y)\n",
    "model = ICP.ICP(X,rY,idx)"
   ]
  },
  {
   "cell_type": "markdown",
   "metadata": {},
   "source": [
    "### Printing the result"
   ]
  },
  {
   "cell_type": "code",
   "execution_count": null,
   "metadata": {
    "scrolled": true
   },
   "outputs": [],
   "source": [
    "ICP.print_InvariantCausalPrediction(model)"
   ]
  },
  {
   "cell_type": "code",
   "execution_count": null,
   "metadata": {},
   "outputs": [],
   "source": [
    "joblib.dump(model,'model_T1D-R-3.pkl')"
   ]
  },
  {
   "cell_type": "markdown",
   "metadata": {},
   "source": [
    "### Plotting the result"
   ]
  },
  {
   "cell_type": "raw",
   "metadata": {},
   "source": [
    "ICP.plot_InvariantCausalPrediction(model)"
   ]
  }
 ],
 "metadata": {
  "kernelspec": {
   "display_name": "Python 3",
   "language": "python",
   "name": "python3"
  },
  "language_info": {
   "codemirror_mode": {
    "name": "ipython",
    "version": 3
   },
   "file_extension": ".py",
   "mimetype": "text/x-python",
   "name": "python",
   "nbconvert_exporter": "python",
   "pygments_lexer": "ipython3",
   "version": "3.7.7"
  }
 },
 "nbformat": 4,
 "nbformat_minor": 4
}
